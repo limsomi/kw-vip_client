{
 "cells": [
  {
   "cell_type": "code",
   "execution_count": 1,
   "metadata": {},
   "outputs": [
    {
     "name": "stdout",
     "output_type": "stream",
     "text": [
      "138 44\n"
     ]
    }
   ],
   "source": [
    "import pandas as pd\n",
    "rent=pd.read_csv('./추정매출_4개구.csv')\n",
    "sales=pd.read_csv('./추정월세_4개구.csv')\n",
    "\n",
    "print(len(rent),len(sales))"
   ]
  },
  {
   "cell_type": "code",
   "execution_count": 2,
   "metadata": {},
   "outputs": [],
   "source": [
    "result=pd.merge(left = sales , right = rent, how = \"inner\", on = \"동\")"
   ]
  },
  {
   "cell_type": "code",
   "execution_count": 3,
   "metadata": {},
   "outputs": [],
   "source": [
    "result.to_csv('result.csv',index=False)"
   ]
  },
  {
   "cell_type": "code",
   "execution_count": null,
   "metadata": {},
   "outputs": [],
   "source": []
  }
 ],
 "metadata": {
  "kernelspec": {
   "display_name": "Python 3.8.10 64-bit (microsoft store)",
   "language": "python",
   "name": "python3"
  },
  "language_info": {
   "codemirror_mode": {
    "name": "ipython",
    "version": 3
   },
   "file_extension": ".py",
   "mimetype": "text/x-python",
   "name": "python",
   "nbconvert_exporter": "python",
   "pygments_lexer": "ipython3",
   "version": "3.8.10"
  },
  "orig_nbformat": 4,
  "vscode": {
   "interpreter": {
    "hash": "ce2c101e633a132a2be35be8e919a9e0dab56f707b035eb5d9ffe17010837cfa"
   }
  }
 },
 "nbformat": 4,
 "nbformat_minor": 2
}
